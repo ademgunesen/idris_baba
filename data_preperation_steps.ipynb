{
 "cells": [
  {
   "cell_type": "code",
   "execution_count": null,
   "metadata": {},
   "outputs": [],
   "source": [
    "from preprocess import preprocess_dataset\n",
    "original_dataset_root = '/home/adem/Desktop/Thesis/Codes/idris_baba/original_data/IDRiD'\n",
    "preprocessed_dataset_root = '/home/adem/Desktop/Thesis/Codes/idris_baba/IDRiD'\n",
    "preprocess_dataset(original_dataset_root, preprocessed_dataset_root)"
   ]
  },
  {
   "cell_type": "code",
   "execution_count": null,
   "metadata": {},
   "outputs": [],
   "source": [
    "from poisson_fusion.build_material_library import build_material_library\n",
    "build_material_library(original_data_dir='')"
   ]
  },
  {
   "cell_type": "code",
   "execution_count": null,
   "metadata": {},
   "outputs": [],
   "source": [
    "from poisson_fusion.poisson_blend import use_pbda_to_generate_data\n",
    "use_pbda_to_generate_data(original_data_dir='')"
   ]
  }
 ],
 "metadata": {
  "kernelspec": {
   "display_name": "herseyyuklu",
   "language": "python",
   "name": "python3"
  },
  "language_info": {
   "codemirror_mode": {
    "name": "ipython",
    "version": 3
   },
   "file_extension": ".py",
   "mimetype": "text/x-python",
   "name": "python",
   "nbconvert_exporter": "python",
   "pygments_lexer": "ipython3",
   "version": "3.10.2"
  }
 },
 "nbformat": 4,
 "nbformat_minor": 2
}
